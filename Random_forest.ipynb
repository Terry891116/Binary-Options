{
  "cells": [
    {
      "cell_type": "code",
      "execution_count": null,
      "metadata": {
        "colab": {
          "base_uri": "https://localhost:8080/"
        },
        "id": "wk-_F--KeTOw",
        "outputId": "ad5dfece-07da-4299-a313-ff6e7cb31da2"
      },
      "outputs": [
        {
          "output_type": "stream",
          "name": "stderr",
          "text": [
            "Downloading...\n",
            "From: https://drive.google.com/uc?export=download&id=1MNq6FUFgjWLrJidHNy-opCGsooKmZLyx\n",
            "To: /content/data_bid.csv\n",
            "100%|██████████| 37.6M/37.6M [00:00<00:00, 77.5MB/s]\n",
            "Downloading...\n",
            "From: https://drive.google.com/uc?export=download&id=1G69ztxdvpDx6u6nLJdy-VfiLZCcIKk0c\n",
            "To: /content/data_ask.csv\n",
            "100%|██████████| 37.5M/37.5M [00:00<00:00, 66.8MB/s]\n"
          ]
        }
      ],
      "source": [
        "import gdown\n",
        "import pandas as pd\n",
        "import numpy as np\n",
        "from sklearn.preprocessing import StandardScaler\n",
        "from sklearn.ensemble import RandomForestClassifier\n",
        "from sklearn.metrics import accuracy_score, confusion_matrix\n",
        "from sklearn.model_selection import GridSearchCV, RandomizedSearchCV\n",
        "from scipy.stats import randint\n",
        "\n",
        "\n",
        "# 下載 bid 文件\n",
        "file_id_bid = '1MNq6FUFgjWLrJidHNy-opCGsooKmZLyx'\n",
        "url_bid = f\"https://drive.google.com/uc?export=download&id={file_id_bid}\"\n",
        "output_bid = 'data_bid.csv'\n",
        "gdown.download(url_bid, output_bid, quiet=False)\n",
        "\n",
        "# 下載 ask 文件\n",
        "file_id_ask = '1G69ztxdvpDx6u6nLJdy-VfiLZCcIKk0c'\n",
        "url_ask = f\"https://drive.google.com/uc?export=download&id={file_id_ask}\"\n",
        "output_ask = 'data_ask.csv'\n",
        "gdown.download(url_ask, output_ask, quiet=False)\n",
        "\n",
        "# 讀取下載的文件\n",
        "data_bid = pd.read_csv('data_bid.csv')\n",
        "data_ask = pd.read_csv('data_ask.csv')"
      ]
    },
    {
      "cell_type": "code",
      "execution_count": null,
      "metadata": {
        "id": "skHEUZeavye-"
      },
      "outputs": [],
      "source": [
        "# 使用左外連接合併，這樣假設bid的數據筆數多，它的數據不會遺失\n",
        "data = pd.merge(data_bid, data_ask, on='Local time', how='left')\n",
        "\n",
        "# 使用fillna填充NaN值，你可以使用特定值或其他策略，這裡我用0作為例子\n",
        "data = data.fillna(0)\n",
        "\n",
        "# 計算平均價格\n",
        "data['Average_Open'] = (data['Open_x'] + data['Open_y']) / 2\n",
        "data['Average_High'] = (data['High_x'] + data['High_y']) / 2\n",
        "data['Average_Low'] = (data['Low_x'] + data['Low_y']) / 2\n",
        "data['Average_Close'] = (data['Close_x'] + data['Close_y']) / 2\n",
        "data['Total_Volume'] = data['Volume_x'] + data['Volume_y']\n",
        "columns_to_drop = ['Open_x', 'Open_y', 'High_x', 'High_y', 'Low_x', 'Low_y', 'Close_x', 'Close_y', 'Volume_x', 'Volume_y']\n",
        "data = data.drop(columns=columns_to_drop)"
      ]
    },
    {
      "cell_type": "code",
      "execution_count": null,
      "metadata": {
        "id": "83Zr5cWrv1jQ",
        "colab": {
          "base_uri": "https://localhost:8080/"
        },
        "outputId": "af076820-a04b-4440-a24f-3211b3b95757"
      },
      "outputs": [
        {
          "output_type": "stream",
          "name": "stdout",
          "text": [
            "               Local time  Average_Open  Average_High  Average_Low  \\\n",
            "0     2022-07-15 00:00:00      1.002740      1.002800     1.002660   \n",
            "1     2022-07-15 00:01:00      1.002670      1.002745     1.002410   \n",
            "2     2022-07-15 00:02:00      1.002730      1.002925     1.002635   \n",
            "3     2022-07-15 00:03:00      1.002810      1.003210     1.002795   \n",
            "4     2022-07-15 00:04:00      1.003210      1.003220     1.002900   \n",
            "...                   ...           ...           ...          ...   \n",
            "23333 2022-08-06 04:58:00      1.018080      1.018285     1.017910   \n",
            "23334 2022-08-06 04:59:00      1.018045      1.018430     1.017850   \n",
            "23335 2022-08-08 05:02:00      1.017565      1.017565     1.017565   \n",
            "23336 2022-08-08 05:03:00      1.017820      1.017855     1.017820   \n",
            "23337 2022-08-08 05:04:00      1.017870      1.017870     1.017820   \n",
            "\n",
            "       Average_Close  Total_Volume  Price_Change  Volume_Change  Future_Close  \\\n",
            "0           1.002685       1471.87      0.000000      -0.008675      1.003195   \n",
            "1           1.002735       1441.20      0.000050      -0.020837      1.003100   \n",
            "2           1.002825       1400.99      0.000090      -0.027900      1.003285   \n",
            "3           1.003195       1289.15      0.000369      -0.079829      1.003190   \n",
            "4           1.003100       1393.34     -0.000095       0.080821      1.003110   \n",
            "...              ...           ...           ...            ...           ...   \n",
            "23333       1.018060        490.79     -0.000015      -0.068268      1.018365   \n",
            "23334       1.018365        362.07      0.000300      -0.262271      1.018365   \n",
            "23335       1.017565          1.80     -0.000786      -0.008675      1.017805   \n",
            "23336       1.017820         51.30      0.000251      27.500000      1.017820   \n",
            "23337       1.017820         13.36      0.000000      -0.739571      1.017820   \n",
            "\n",
            "       three_minutes_Change  \n",
            "0                  0.000455  \n",
            "1                  0.000430  \n",
            "2                  0.000555  \n",
            "3                  0.000380  \n",
            "4                 -0.000100  \n",
            "...                     ...  \n",
            "23333              0.000285  \n",
            "23334              0.000320  \n",
            "23335              0.000240  \n",
            "23336              0.000000  \n",
            "23337             -0.000050  \n",
            "\n",
            "[23338 rows x 10 columns]\n"
          ]
        }
      ],
      "source": [
        "# 計算價格和成交量的變化\n",
        "data['Price_Change'] = data['Average_Close'].pct_change()\n",
        "data['Volume_Change'] = data['Total_Volume'].pct_change()\n",
        "# 創建未來三分鐘的收盤價欄位\n",
        "data['Future_Close'] = data['Average_Close'].shift(-3)\n",
        "data['three_minutes_Change'] = data['Future_Close'] - data['Average_Open']\n",
        "# 處理缺失值和無窮大\n",
        "data.replace([np.inf, -np.inf], np.nan, inplace=True)\n",
        "\n",
        "missing_cols = data.columns[data.isnull().any()]\n",
        "for col in missing_cols:\n",
        "    data[col].fillna(data[col].median(), inplace=True)\n",
        "# 嘗試使用完整的格式轉換日期時間\n",
        "data['Local time'] = pd.to_datetime(data['Local time'], format='%d.%m.%Y %H:%M:%S.000 GMT+0800', errors='coerce')\n",
        "\n",
        "# 對於剩下的非NaT項目，再次嘗試使用不帶GMT部分的基本格式轉換\n",
        "data.loc[data['Local time'].isna(), 'Local time'] = pd.to_datetime(data[data['Local time'].isna()]['Local time'], format='%d.%m.%Y %H:%M:%S')\n",
        "delete_condition = (\n",
        "    ((data['Local time'].dt.weekday == 5) & (data['Local time'].dt.hour >= 5)) |\n",
        "    (data['Local time'].dt.weekday == 6) |\n",
        "    ((data['Local time'].dt.weekday == 0) & (data['Local time'].dt.hour < 5))\n",
        ")\n",
        "late_market_open_condition = (\n",
        "    (data['Local time'].dt.weekday == 0) &\n",
        "    (data['Local time'].dt.hour == 5) &\n",
        "    (data['Local time'].dt.minute < 4) &\n",
        "    (data['Total_Volume'] == 0)\n",
        ")\n",
        "\n",
        "# 組合上述兩個刪除條件\n",
        "combined_delete_condition = delete_condition | late_market_open_condition\n",
        "data.drop(data[combined_delete_condition].index, inplace=True)\n",
        "data.reset_index(drop=True, inplace=True)\n",
        "\n",
        "print(data.head(23338))"
      ]
    },
    {
      "cell_type": "code",
      "execution_count": null,
      "metadata": {
        "colab": {
          "base_uri": "https://localhost:8080/"
        },
        "id": "QqSA-Scdv_O3",
        "outputId": "feb4ad97-ad92-47dc-fa58-94780feda634"
      },
      "outputs": [
        {
          "output_type": "stream",
          "name": "stdout",
          "text": [
            "Size of training data: 300821\n",
            "Size of validation data: 37602\n",
            "Size of test data: 37603\n",
            "\n",
            "Training data time range: 0 to 300820\n",
            "Validation data time range: 300821 to 338422\n",
            "Test data time range: 338423 to 376025\n"
          ]
        }
      ],
      "source": [
        "# 將價格變動轉換為類別\n",
        "def label(three_minutes_Change):\n",
        "    if three_minutes_Change > 0:\n",
        "        return 2\n",
        "    elif three_minutes_Change < 0:\n",
        "        return 0\n",
        "    else:\n",
        "        return 1\n",
        "\n",
        "data['Label'] = data['three_minutes_Change'].apply(label)\n",
        "\n",
        "# 提取日期時間特徵\n",
        "data['Local time'] = pd.to_datetime(data['Local time'])\n",
        "data['Year'] = data['Local time'].dt.year\n",
        "data['Month'] = data['Local time'].dt.month\n",
        "data['Day'] = data['Local time'].dt.day\n",
        "data['DayOfWeek'] = data['Local time'].dt.dayofweek\n",
        "data['Hour'] = data['Local time'].dt.hour\n",
        "data['Minute'] = data['Local time'].dt.minute\n",
        "\n",
        "# 轉換日期時間特徵為循環特徵\n",
        "data['DayOfWeekSin'] = np.sin((data['DayOfWeek']) * (2. * np.pi / 7))\n",
        "data['DayOfWeekCos'] = np.cos((data['DayOfWeek']) * (2. * np.pi / 7))\n",
        "data['HourSin'] = np.sin(data['Hour'] * (2. * np.pi / 24))\n",
        "data['HourCos'] = np.cos(data['Hour'] * (2. * np.pi / 24))\n",
        "\n",
        "# 去掉不需要的列\n",
        "data = data.drop('Local time', axis=1)\n",
        "\n",
        "# 定義特徵和目標變量\n",
        "features = [\n",
        "    \"Average_Open\", \"Average_Close\", \"Total_Volume\", \"Price_Change\", \"Volume_Change\",\n",
        "    \"Year\", \"Month\", \"Day\", \"Hour\", \"Minute\",\n",
        "    \"DayOfWeek\", \"DayOfWeekSin\", \"DayOfWeekCos\", \"HourSin\", \"HourCos\"\n",
        "]\n",
        "label = \"Label\"\n",
        "\n",
        "# 按照時間順序分割訓練集、驗證集、和測試集\n",
        "train_size = round(len(data) * 0.8)\n",
        "temp_size = len(data) - train_size\n",
        "val_test_size = round(temp_size * 0.5)\n",
        "\n",
        "train_data = data.iloc[:train_size].copy()\n",
        "val_data = data.iloc[train_size:train_size + val_test_size].copy()\n",
        "test_data = data.iloc[train_size + val_test_size:].copy()\n",
        "\n",
        "# 計算訓練數據的滑動窗口標準差\n",
        "window_size = 5\n",
        "train_data['Std_Dev'] = train_data['Average_Close'].rolling(window_size).std()\n",
        "\n",
        "# 計算驗證數據的滑動窗口標準差\n",
        "val_data['Std_Dev'] = val_data['Average_Close'].rolling(window_size).std()\n",
        "\n",
        "# 計算測試數據的滑動窗口標準差\n",
        "test_data['Std_Dev'] = test_data['Average_Close'].rolling(window_size).std()\n",
        "\n",
        "# 補充 features 以包括 'Std_Dev'\n",
        "features.append('Std_Dev')\n",
        "\n",
        "x_train = train_data[features]\n",
        "y_train = train_data[label]\n",
        "x_val = val_data[features]\n",
        "y_val = val_data[label]\n",
        "x_test = test_data[features]\n",
        "y_test = test_data[label]\n",
        "\n",
        "x_train = x_train.fillna(x_train.mean())\n",
        "x_val = x_val.fillna(x_train.mean())\n",
        "x_test = x_test.fillna(x_train.mean())\n",
        "\n",
        "# 資料正規化\n",
        "scaler = StandardScaler()\n",
        "x_train = scaler.fit_transform(x_train)\n",
        "x_val = scaler.transform(x_val)\n",
        "x_test = scaler.transform(x_test)\n",
        "\n",
        "# 檢查每個資料集的大小\n",
        "print(\"Size of training data:\", len(train_data))\n",
        "print(\"Size of validation data:\", len(val_data))\n",
        "print(\"Size of test data:\", len(test_data))\n",
        "\n",
        "# 確定資料按時間順序進行分割\n",
        "print(\"\\nTraining data time range:\", train_data.index.min(), \"to\", train_data.index.max())\n",
        "print(\"Validation data time range:\", val_data.index.min(), \"to\", val_data.index.max())\n",
        "print(\"Test data time range:\", test_data.index.min(), \"to\", test_data.index.max())\n"
      ]
    },
    {
      "cell_type": "code",
      "execution_count": null,
      "metadata": {
        "id": "SqIJjGZuwhT0",
        "colab": {
          "base_uri": "https://localhost:8080/"
        },
        "outputId": "f12f8c1d-9c5f-471f-b5c4-d734e1bcbc4c"
      },
      "outputs": [
        {
          "output_type": "stream",
          "name": "stdout",
          "text": [
            "Fitting 3 folds for each of 10 candidates, totalling 30 fits\n",
            "Best Parameters: {'n_estimators': 150, 'min_samples_split': 2, 'min_samples_leaf': 1, 'max_depth': 3}\n",
            "Validation Accuracy:  0.6450986649646295\n",
            "Validation Confusion Matrix: \n",
            " [[12616    33  5806]\n",
            " [  385    19   290]\n",
            " [ 6821    10 11622]]\n"
          ]
        }
      ],
      "source": [
        "# 定義模型\n",
        "model = RandomForestClassifier()\n",
        "\n",
        "# 設定超參數分佈\n",
        "param_dist_random_forest = {\n",
        "    'n_estimators': [50, 100, 150, 200],   # 指定的值列表\n",
        "    'max_depth': [None, 3, 5, 7],          # None + 指定的值列表\n",
        "    'min_samples_split': [2, 4, 6],       # 指定的值列表\n",
        "    'min_samples_leaf': [1, 2, 3]         # 指定的值列表\n",
        "}\n",
        "\n",
        "# 使用 RandomizedSearchCV，將 n_iter 和 cv 減少\n",
        "rand_search = RandomizedSearchCV(model, param_distributions=param_dist_random_forest, n_iter=10, cv=3, scoring='accuracy', verbose=1, n_jobs=-1)\n",
        "rand_search.fit(x_train, y_train)\n",
        "\n",
        "\n",
        "# 輸出最佳參數\n",
        "print(\"Best Parameters:\", rand_search.best_params_)\n",
        "\n",
        "\n",
        "# 使用驗證集驗證模型\n",
        "y_val_pred = rand_search.predict(x_val)\n",
        "print('Validation Accuracy: ', accuracy_score(y_val, y_val_pred))\n",
        "print('Validation Confusion Matrix: \\n', confusion_matrix(y_val, y_val_pred))\n",
        "\n",
        "# 根據驗證集的結果，您可能會考慮調整模型參數以優化其性能。"
      ]
    },
    {
      "cell_type": "code",
      "execution_count": null,
      "metadata": {
        "colab": {
          "base_uri": "https://localhost:8080/"
        },
        "id": "FKeqidMD1VaF",
        "outputId": "ee5df216-1f97-41ba-9496-6383079961cf"
      },
      "outputs": [
        {
          "output_type": "stream",
          "name": "stdout",
          "text": [
            "Test Accuracy:  0.6442571071457065\n",
            "Test Confusion Matrix: \n",
            " [[12446    15  5602]\n",
            " [  401    28   308]\n",
            " [ 7038    13 11752]]\n"
          ]
        }
      ],
      "source": [
        "rf_model = RandomForestClassifier(\n",
        "    n_estimators=150,\n",
        "    max_depth=3,\n",
        "    min_samples_split=4,\n",
        "    min_samples_leaf=3,\n",
        "    random_state=0\n",
        ")\n",
        "\n",
        "# 訓練模型\n",
        "rf_model.fit(x_train, y_train)\n",
        "\n",
        "# 使用測試集預測\n",
        "y_pred = rf_model.predict(x_test)\n",
        "\n",
        "# 輸出預測結果的評估指標\n",
        "print('Test Accuracy: ', accuracy_score(y_test, y_pred))\n",
        "print('Test Confusion Matrix: \\n', confusion_matrix(y_test, y_pred))"
      ]
    },
    {
      "cell_type": "code",
      "source": [
        "from sklearn.metrics import classification_report\n",
        "print('Classification Report for Test Set: \\n', classification_report(y_test, y_pred, digits=5))"
      ],
      "metadata": {
        "colab": {
          "base_uri": "https://localhost:8080/"
        },
        "id": "OuNue9aE55XA",
        "outputId": "9537436a-9a6b-4455-a0cb-89a526bd5ba8"
      },
      "execution_count": null,
      "outputs": [
        {
          "output_type": "stream",
          "name": "stdout",
          "text": [
            "Classification Report for Test Set: \n",
            "               precision    recall  f1-score   support\n",
            "\n",
            "           0    0.62590   0.68903   0.65595     18063\n",
            "           1    0.50000   0.03799   0.07062       737\n",
            "           2    0.66538   0.62501   0.64456     18803\n",
            "\n",
            "    accuracy                        0.64426     37603\n",
            "   macro avg    0.59709   0.45068   0.45704     37603\n",
            "weighted avg    0.64318   0.64426   0.63878     37603\n",
            "\n"
          ]
        }
      ]
    },
    {
      "cell_type": "code",
      "source": [
        "from sklearn.inspection import permutation_importance\n",
        "\n",
        "# 1. 使用模型在測試集上計算 Permutation Importance\n",
        "result = permutation_importance(rf_model, x_test, y_test, n_repeats=30, random_state=0)\n",
        "\n",
        "# 2. 根据重要性排序特征\n",
        "sorted_indices = result.importances_mean.argsort()[::-1]\n",
        "\n",
        "# 3. 打印特征和其对应的重要性\n",
        "print(\"Feature Importance:\")\n",
        "for idx in sorted_indices:\n",
        "    print(f\"{features[idx]:<20} : {result.importances_mean[idx]:.4f} ± {result.importances_std[idx]:.4f}\")\n"
      ],
      "metadata": {
        "id": "ohUxAue4-Y-9"
      },
      "execution_count": null,
      "outputs": []
    },
    {
      "cell_type": "code",
      "source": [
        "# 3. 打印特征和其对应的重要性\n",
        "print(\"Feature Importance:\")\n",
        "for idx in sorted_indices:\n",
        "    print(f\"{features[idx]:<20} : {result.importances_mean[idx]:.4f} ± {result.importances_std[idx]:.4f}\")"
      ],
      "metadata": {
        "colab": {
          "base_uri": "https://localhost:8080/"
        },
        "id": "GcXQbmWaBxEi",
        "outputId": "b34d231c-74cf-4de2-ca7f-2b8b87578709"
      },
      "execution_count": null,
      "outputs": [
        {
          "output_type": "stream",
          "name": "stdout",
          "text": [
            "Feature Importance:\n",
            "Price_Change         : 0.1538 ± 0.0024\n",
            "Hour                 : 0.0012 ± 0.0003\n",
            "Std_Dev              : 0.0012 ± 0.0003\n",
            "Total_Volume         : 0.0009 ± 0.0001\n",
            "HourSin              : 0.0009 ± 0.0002\n",
            "Volume_Change        : 0.0004 ± 0.0001\n",
            "DayOfWeekSin         : 0.0004 ± 0.0001\n",
            "HourCos              : 0.0002 ± 0.0001\n",
            "Day                  : 0.0001 ± 0.0001\n",
            "Minute               : 0.0001 ± 0.0002\n",
            "DayOfWeek            : 0.0000 ± 0.0001\n",
            "Month                : 0.0000 ± 0.0000\n",
            "Year                 : 0.0000 ± 0.0000\n",
            "DayOfWeekCos         : -0.0000 ± 0.0001\n",
            "Average_Open         : -0.0011 ± 0.0002\n",
            "Average_Close        : -0.0011 ± 0.0001\n"
          ]
        }
      ]
    },
    {
      "cell_type": "code",
      "execution_count": null,
      "metadata": {
        "colab": {
          "base_uri": "https://localhost:8080/"
        },
        "id": "FsWVegH1sXKq",
        "outputId": "2377720f-fc03-4ed8-a8e6-a8209e309ea3"
      },
      "outputs": [
        {
          "output_type": "stream",
          "name": "stdout",
          "text": [
            "Test Accuracy:  0.6442571071457065\n",
            "Test Confusion Matrix: \n",
            " [[12446    15  5602]\n",
            " [  401    28   308]\n",
            " [ 7038    13 11752]]\n",
            "總獲利： 9138.2\n"
          ]
        }
      ],
      "source": [
        "y_pred = rf_model.predict(x_test)\n",
        "print('Test Accuracy: ', accuracy_score(y_test, y_pred))\n",
        "conf_matrix = confusion_matrix(y_test, y_pred)\n",
        "print('Test Confusion Matrix: \\n', confusion_matrix(y_test, y_pred))\n",
        "\n",
        "def calculate_profit(conf_matrix):\n",
        "    profit = 0\n",
        "\n",
        "    # 標籤0且預測為0，獲利0.9\n",
        "    profit += conf_matrix[0, 0] * 0.9\n",
        "\n",
        "    # 標籤0但預測為2，損失1\n",
        "    if conf_matrix.shape[1] > 2:\n",
        "        profit -= conf_matrix[0, 2]\n",
        "\n",
        "    # 標籤2且預測為2，獲利0.9\n",
        "    if conf_matrix.shape[0] > 2 and conf_matrix.shape[1] > 2:\n",
        "        profit += conf_matrix[2, 2] * 0.9\n",
        "\n",
        "    # 標籤2但預測為0，損失1\n",
        "    if conf_matrix.shape[0] > 2:\n",
        "        profit -= conf_matrix[2, 0]\n",
        "\n",
        "    return profit\n",
        "\n",
        "\n",
        "profit = calculate_profit(conf_matrix)\n",
        "print(\"總獲利：\", profit)"
      ]
    },
    {
      "cell_type": "code",
      "execution_count": null,
      "metadata": {
        "id": "rdn7D1qSu_It"
      },
      "outputs": [],
      "source": [
        "def martingale_strategy(predictions, true_values, verbose=False):\n",
        "    balance = 0  # 起始餘額為0，代表沒有任何本金\n",
        "    bet = 1  # 初始投注金額\n",
        "\n",
        "    for i, (pred, true) in enumerate(zip(predictions, true_values)):\n",
        "        if pred == true:  # 預測正確，贏得賭注\n",
        "            balance += 0.9 * bet\n",
        "            if verbose:\n",
        "                print(f\"Trade {i + 1}: WIN  | Bet: ${bet} | Balance: ${round(balance, 1)}\")\n",
        "            bet = 1\n",
        "        else:  # 預測錯誤，輸掉賭注\n",
        "            balance -= bet\n",
        "            if verbose:\n",
        "                print(f\"Trade {i + 1}: LOSE | Bet: ${bet} | Balance: ${round(balance, 1)}\")\n",
        "            bet *= 2  # 加倍投注金額\n",
        "\n",
        "    return round(balance, 1)  # 返回淨利潤\n",
        "\n",
        "\n",
        "subset_size = 37603\n",
        "x_test_subset = x_test[:subset_size]\n",
        "y_test_subset = y_test[:subset_size]\n",
        "\n",
        "# 使用模型進行預測\n",
        "y_pred_subset = rand_search.predict(x_test_subset)\n",
        "\n",
        "# 計算馬丁格爾策略淨利潤\n",
        "print(\"Martingale Strategy:\")\n",
        "profit_martingale = martingale_strategy(y_pred_subset, y_test_subset, verbose=True)\n",
        "\n",
        "print(\"\\n總獲利:\", profit_martingale)"
      ]
    },
    {
      "cell_type": "code",
      "source": [
        "import matplotlib.pyplot as plt\n",
        "import numpy as np\n",
        "\n",
        "def martingale_strategy(predictions, true_values):\n",
        "    balances = []\n",
        "    balance = 0\n",
        "    bet = 1\n",
        "\n",
        "    for i, (pred, true) in enumerate(zip(predictions, true_values)):\n",
        "        if pred == true:\n",
        "            balance += 0.9 * bet\n",
        "            bet = 1\n",
        "        else:\n",
        "            balance -= bet\n",
        "            bet *= 2\n",
        "        balances.append(balance)\n",
        "\n",
        "    return balances\n",
        "\n",
        "\n",
        "predictions = rand_search.predict(x_test)\n",
        "balances = martingale_strategy(predictions, y_test)  # 使用模型的預測結果和真實結果\n",
        "\n",
        "\n",
        "plt.figure(figsize=(10, 6))\n",
        "plt.plot(balances, label=\"Profit Over Time\", color=\"red\")\n",
        "plt.xlabel(\"Number of Trades\")\n",
        "plt.ylabel(\"Profit\")\n",
        "plt.title(\"Martingale Strategy\")\n",
        "plt.grid(True)\n",
        "plt.legend()\n",
        "plt.tight_layout()\n",
        "\n",
        "min_balance = min(balances)\n",
        "max_balance = max(balances)\n",
        "yticks_interval = (max_balance - min_balance) / 10\n",
        "plt.yticks(np.arange(min_balance, max_balance + yticks_interval, yticks_interval))\n",
        "\n",
        "final_balance = balances[-1]\n",
        "plt.annotate(f\"{final_balance:.2f}\", (len(balances)-1, final_balance), textcoords=\"offset points\", xytext=(0,10), ha='center')\n",
        "\n",
        "plt.show()"
      ],
      "metadata": {
        "colab": {
          "base_uri": "https://localhost:8080/",
          "height": 607
        },
        "id": "QpYVdDQN32U5",
        "outputId": "091c7c45-0f0f-4ba6-8034-b56e0ecc3388"
      },
      "execution_count": null,
      "outputs": [
        {
          "output_type": "display_data",
          "data": {
            "text/plain": [
              "<Figure size 1000x600 with 1 Axes>"
            ],
            "image/png": "[encoded data removed]"
          },
          "metadata": {}
        }
      ]
    }
  ],
  "metadata": {
    "colab": {
      "provenance": []
    },
    "kernelspec": {
      "display_name": "Python 3",
      "name": "python3"
    },
    "language_info": {
      "name": "python"
    }
  },
  "nbformat": 4,
  "nbformat_minor": 0
}