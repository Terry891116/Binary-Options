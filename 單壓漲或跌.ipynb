{
  "nbformat": 4,
  "nbformat_minor": 0,
  "metadata": {
    "colab": {
      "provenance": []
    },
    "kernelspec": {
      "name": "python3",
      "display_name": "Python 3"
    },
    "language_info": {
      "name": "python"
    }
  },
  "cells": [
    {
      "cell_type": "code",
      "execution_count": null,
      "metadata": {
        "colab": {
          "base_uri": "https://localhost:8080/"
        },
        "id": "ZxGIxMkS2e1v",
        "outputId": "99885d9d-1567-4810-c878-35a885a14fbb"
      },
      "outputs": [
        {
          "output_type": "stream",
          "name": "stderr",
          "text": [
            "Downloading...\n",
            "From: https://drive.google.com/uc?export=download&id=1MNq6FUFgjWLrJidHNy-opCGsooKmZLyx\n",
            "To: /content/data_bid.csv\n",
            "100%|██████████| 37.6M/37.6M [00:00<00:00, 67.9MB/s]\n",
            "Downloading...\n",
            "From: https://drive.google.com/uc?export=download&id=1G69ztxdvpDx6u6nLJdy-VfiLZCcIKk0c\n",
            "To: /content/data_ask.csv\n",
            "100%|██████████| 37.5M/37.5M [00:00<00:00, 161MB/s]\n"
          ]
        }
      ],
      "source": [
        "import gdown\n",
        "import pandas as pd\n",
        "import numpy as np\n",
        "from sklearn.preprocessing import StandardScaler\n",
        "from sklearn.metrics import accuracy_score\n",
        "\n",
        "# 下載 bid 文件\n",
        "file_id_bid = '1MNq6FUFgjWLrJidHNy-opCGsooKmZLyx'\n",
        "url_bid = f\"https://drive.google.com/uc?export=download&id={file_id_bid}\"\n",
        "output_bid = 'data_bid.csv'\n",
        "gdown.download(url_bid, output_bid, quiet=False)\n",
        "\n",
        "# 下載 ask 文件\n",
        "file_id_ask = '1G69ztxdvpDx6u6nLJdy-VfiLZCcIKk0c'\n",
        "url_ask = f\"https://drive.google.com/uc?export=download&id={file_id_ask}\"\n",
        "output_ask = 'data_ask.csv'\n",
        "gdown.download(url_ask, output_ask, quiet=False)\n",
        "\n",
        "# 讀取下載的文件\n",
        "data_bid = pd.read_csv('data_bid.csv')\n",
        "data_ask = pd.read_csv('data_ask.csv')"
      ]
    },
    {
      "cell_type": "code",
      "source": [
        "# 使用左外連接合併，這樣假設bid的數據筆數多，它的數據不會遺失\n",
        "data = pd.merge(data_bid, data_ask, on='Local time', how='left')\n",
        "\n",
        "# 使用fillna填充NaN值，你可以使用特定值或其他策略，這裡我用0作為例子\n",
        "data = data.fillna(0)\n",
        "\n",
        "# 計算平均價格\n",
        "data['Average_Open'] = (data['Open_x'] + data['Open_y']) / 2\n",
        "data['Average_High'] = (data['High_x'] + data['High_y']) / 2\n",
        "data['Average_Low'] = (data['Low_x'] + data['Low_y']) / 2\n",
        "data['Average_Close'] = (data['Close_x'] + data['Close_y']) / 2\n",
        "data['Total_Volume'] = data['Volume_x'] + data['Volume_y']\n",
        "columns_to_drop = ['Open_x', 'Open_y', 'High_x', 'High_y', 'Low_x', 'Low_y', 'Close_x', 'Close_y', 'Volume_x', 'Volume_y']\n",
        "data = data.drop(columns=columns_to_drop)"
      ],
      "metadata": {
        "id": "u9da3i1d4W1-"
      },
      "execution_count": null,
      "outputs": []
    },
    {
      "cell_type": "code",
      "source": [
        "# 計算價格和成交量的變化\n",
        "data['Price_Change'] = data['Average_Close'].pct_change()\n",
        "data['Volume_Change'] = data['Total_Volume'].pct_change()\n",
        "# 創建未來三分鐘的收盤價欄位\n",
        "data['Future_Close'] = data['Average_Close'].shift(-3)\n",
        "data['three_minutes_Change'] = data['Future_Close'] - data['Average_Open']\n",
        "# 處理缺失值和無窮大\n",
        "data.replace([np.inf, -np.inf], np.nan, inplace=True)\n",
        "\n",
        "missing_cols = data.columns[data.isnull().any()]\n",
        "for col in missing_cols:\n",
        "    data[col].fillna(data[col].median(), inplace=True)\n",
        "# 嘗試使用完整的格式轉換日期時間\n",
        "data['Local time'] = pd.to_datetime(data['Local time'], format='%d.%m.%Y %H:%M:%S.000 GMT+0800', errors='coerce')\n",
        "\n",
        "# 對於剩下的非NaT項目，再次嘗試使用不帶GMT部分的基本格式轉換\n",
        "data.loc[data['Local time'].isna(), 'Local time'] = pd.to_datetime(data[data['Local time'].isna()]['Local time'], format='%d.%m.%Y %H:%M:%S')\n",
        "delete_condition = (\n",
        "    ((data['Local time'].dt.weekday == 5) & (data['Local time'].dt.hour >= 5)) |\n",
        "    (data['Local time'].dt.weekday == 6) |\n",
        "    ((data['Local time'].dt.weekday == 0) & (data['Local time'].dt.hour < 5))\n",
        ")\n",
        "late_market_open_condition = (\n",
        "    (data['Local time'].dt.weekday == 0) &\n",
        "    (data['Local time'].dt.hour == 5) &\n",
        "    (data['Local time'].dt.minute < 4) &\n",
        "    (data['Total_Volume'] == 0)\n",
        ")\n",
        "\n",
        "# 組合上述兩個刪除條件\n",
        "combined_delete_condition = delete_condition | late_market_open_condition\n",
        "data.drop(data[combined_delete_condition].index, inplace=True)\n",
        "data.reset_index(drop=True, inplace=True)\n",
        "\n",
        "print(data.head(23338))"
      ],
      "metadata": {
        "id": "qirCIjNp4ppf",
        "colab": {
          "base_uri": "https://localhost:8080/"
        },
        "outputId": "fb9f0472-81dd-4a64-e92f-dc01b3ce319d"
      },
      "execution_count": null,
      "outputs": [
        {
          "output_type": "stream",
          "name": "stdout",
          "text": [
            "               Local time  Average_Open  Average_High  Average_Low  \\\n",
            "0     2022-07-15 00:00:00      1.002740      1.002800     1.002660   \n",
            "1     2022-07-15 00:01:00      1.002670      1.002745     1.002410   \n",
            "2     2022-07-15 00:02:00      1.002730      1.002925     1.002635   \n",
            "3     2022-07-15 00:03:00      1.002810      1.003210     1.002795   \n",
            "4     2022-07-15 00:04:00      1.003210      1.003220     1.002900   \n",
            "...                   ...           ...           ...          ...   \n",
            "23333 2022-08-06 04:58:00      1.018080      1.018285     1.017910   \n",
            "23334 2022-08-06 04:59:00      1.018045      1.018430     1.017850   \n",
            "23335 2022-08-08 05:02:00      1.017565      1.017565     1.017565   \n",
            "23336 2022-08-08 05:03:00      1.017820      1.017855     1.017820   \n",
            "23337 2022-08-08 05:04:00      1.017870      1.017870     1.017820   \n",
            "\n",
            "       Average_Close  Total_Volume  Price_Change  Volume_Change  Future_Close  \\\n",
            "0           1.002685       1471.87      0.000000      -0.008675      1.003195   \n",
            "1           1.002735       1441.20      0.000050      -0.020837      1.003100   \n",
            "2           1.002825       1400.99      0.000090      -0.027900      1.003285   \n",
            "3           1.003195       1289.15      0.000369      -0.079829      1.003190   \n",
            "4           1.003100       1393.34     -0.000095       0.080821      1.003110   \n",
            "...              ...           ...           ...            ...           ...   \n",
            "23333       1.018060        490.79     -0.000015      -0.068268      1.018365   \n",
            "23334       1.018365        362.07      0.000300      -0.262271      1.018365   \n",
            "23335       1.017565          1.80     -0.000786      -0.008675      1.017805   \n",
            "23336       1.017820         51.30      0.000251      27.500000      1.017820   \n",
            "23337       1.017820         13.36      0.000000      -0.739571      1.017820   \n",
            "\n",
            "       three_minutes_Change  \n",
            "0                  0.000455  \n",
            "1                  0.000430  \n",
            "2                  0.000555  \n",
            "3                  0.000380  \n",
            "4                 -0.000100  \n",
            "...                     ...  \n",
            "23333              0.000285  \n",
            "23334              0.000320  \n",
            "23335              0.000240  \n",
            "23336              0.000000  \n",
            "23337             -0.000050  \n",
            "\n",
            "[23338 rows x 10 columns]\n"
          ]
        }
      ]
    },
    {
      "cell_type": "code",
      "source": [
        "# 將價格變動轉換為類別\n",
        "def label(three_minutes_Change):\n",
        "    if three_minutes_Change > 0:\n",
        "        return 2\n",
        "    elif three_minutes_Change < 0:\n",
        "        return 0\n",
        "    else:\n",
        "        return 1\n",
        "\n",
        "data['Label'] = data['three_minutes_Change'].apply(label)\n",
        "\n",
        "# 提取日期時間特徵\n",
        "data['Local time'] = pd.to_datetime(data['Local time'])\n",
        "data['Year'] = data['Local time'].dt.year\n",
        "data['Month'] = data['Local time'].dt.month\n",
        "data['Day'] = data['Local time'].dt.day\n",
        "data['DayOfWeek'] = data['Local time'].dt.dayofweek\n",
        "data['Hour'] = data['Local time'].dt.hour\n",
        "data['Minute'] = data['Local time'].dt.minute\n",
        "\n",
        "# 轉換日期時間特徵為循環特徵\n",
        "data['DayOfWeekSin'] = np.sin((data['DayOfWeek']) * (2. * np.pi / 7))\n",
        "data['DayOfWeekCos'] = np.cos((data['DayOfWeek']) * (2. * np.pi / 7))\n",
        "data['HourSin'] = np.sin(data['Hour'] * (2. * np.pi / 24))\n",
        "data['HourCos'] = np.cos(data['Hour'] * (2. * np.pi / 24))\n",
        "\n",
        "# 去掉不需要的列\n",
        "data = data.drop('Local time', axis=1)\n",
        "\n",
        "# 定義特徵和目標變量\n",
        "features = [\n",
        "    \"Average_Open\", \"Average_Close\", \"Total_Volume\", \"Price_Change\", \"Volume_Change\",\n",
        "    \"Year\", \"Month\", \"Day\", \"Hour\", \"Minute\",\n",
        "    \"DayOfWeek\", \"DayOfWeekSin\", \"DayOfWeekCos\", \"HourSin\", \"HourCos\"\n",
        "]\n",
        "label = \"Label\"\n",
        "\n",
        "# 按照時間順序分割訓練集和測試集\n",
        "train_size = round(len(data) * 0.9)\n",
        "train_data = data.iloc[:train_size].copy()\n",
        "test_data = data.iloc[train_size:].copy()\n",
        "\n",
        "# 計算訓練數據的滑動窗口標準差\n",
        "window_size = 5\n",
        "train_data['Std_Dev'] = train_data['Average_Close'].rolling(window_size).std()\n",
        "\n",
        "# 計算測試數據的滑動窗口標準差\n",
        "test_data['Std_Dev'] = test_data['Average_Close'].rolling(window_size).std()\n",
        "\n",
        "# 補充 features 以包括 'Std_Dev'\n",
        "features.append('Std_Dev')\n",
        "\n",
        "x_train = train_data[features]\n",
        "y_train = train_data[label]\n",
        "x_test = test_data[features]\n",
        "y_test = test_data[label]\n",
        "\n",
        "x_train = x_train.fillna(x_train.mean())\n",
        "x_test = x_test.fillna(x_train.mean())\n",
        "\n",
        "# 資料正規化\n",
        "scaler = StandardScaler()\n",
        "x_train = scaler.fit_transform(x_train)\n",
        "x_test = scaler.transform(x_test)"
      ],
      "metadata": {
        "id": "bYun6rI54twj"
      },
      "execution_count": null,
      "outputs": []
    },
    {
      "cell_type": "code",
      "source": [
        "#單壓漲\n",
        "y_pred_random = [2 for _ in y_test]\n",
        "\n",
        "conf_matrix = confusion_matrix(y_test, y_pred_random)\n",
        "\n",
        "print(\"Confusion Matrix:\")\n",
        "print(conf_matrix)\n",
        "\n",
        "\n",
        "accuracy = accuracy_score(y_test, y_pred_random)\n",
        "print(\"\\nOverall Accuracy:\", accuracy)\n",
        "\n",
        "\n",
        "correct_predictions_percentage = {}\n",
        "for i in range(3):\n",
        "    correct_predictions_percentage[i] = (conf_matrix[i, i] / sum(conf_matrix[i])) * 100\n",
        "\n",
        "print(\"\\nCorrect Predictions Percentage:\")\n",
        "for key, value in correct_predictions_percentage.items():\n",
        "    print(f\"Class {key}: {value:.2f}%\")"
      ],
      "metadata": {
        "colab": {
          "base_uri": "https://localhost:8080/",
          "height": 248
        },
        "id": "Zm0UTVFe_kkp",
        "outputId": "63ad78ae-ecd4-4cab-e147-8a558db0fbcf"
      },
      "execution_count": null,
      "outputs": [
        {
          "output_type": "error",
          "ename": "NameError",
          "evalue": "ignored",
          "traceback": [
            "\u001b[0;31m---------------------------------------------------------------------------\u001b[0m",
            "\u001b[0;31mNameError\u001b[0m                                 Traceback (most recent call last)",
            "\u001b[0;32m<ipython-input-11-c53f9de28f49>\u001b[0m in \u001b[0;36m<cell line: 4>\u001b[0;34m()\u001b[0m\n\u001b[1;32m      2\u001b[0m \u001b[0my_pred_random\u001b[0m \u001b[0;34m=\u001b[0m \u001b[0;34m[\u001b[0m\u001b[0;36m2\u001b[0m \u001b[0;32mfor\u001b[0m \u001b[0m_\u001b[0m \u001b[0;32min\u001b[0m \u001b[0my_test\u001b[0m\u001b[0;34m]\u001b[0m\u001b[0;34m\u001b[0m\u001b[0;34m\u001b[0m\u001b[0m\n\u001b[1;32m      3\u001b[0m \u001b[0;34m\u001b[0m\u001b[0m\n\u001b[0;32m----> 4\u001b[0;31m \u001b[0mconf_matrix\u001b[0m \u001b[0;34m=\u001b[0m \u001b[0mconfusion_matrix\u001b[0m\u001b[0;34m(\u001b[0m\u001b[0my_test\u001b[0m\u001b[0;34m,\u001b[0m \u001b[0my_pred_random\u001b[0m\u001b[0;34m)\u001b[0m\u001b[0;34m\u001b[0m\u001b[0;34m\u001b[0m\u001b[0m\n\u001b[0m\u001b[1;32m      5\u001b[0m \u001b[0;34m\u001b[0m\u001b[0m\n\u001b[1;32m      6\u001b[0m \u001b[0mprint\u001b[0m\u001b[0;34m(\u001b[0m\u001b[0;34m\"Confusion Matrix:\"\u001b[0m\u001b[0;34m)\u001b[0m\u001b[0;34m\u001b[0m\u001b[0;34m\u001b[0m\u001b[0m\n",
            "\u001b[0;31mNameError\u001b[0m: name 'confusion_matrix' is not defined"
          ]
        }
      ]
    },
    {
      "cell_type": "code",
      "source": [
        "def calculate_single_side_profit(true_values, predictions):\n",
        "    profit = 0\n",
        "\n",
        "    for true, pred in zip(true_values, predictions):\n",
        "        if true == 0 and pred == 2:  # 預測為漲，但實際為跌\n",
        "            profit -= 1\n",
        "        elif true == 1 and pred == 2:  # 預測為漲，但實際持平，失去投資\n",
        "            profit -= 1\n",
        "        elif true == 2 and pred == 2:  # 預測為漲，實際也漲\n",
        "            profit += 0.9  # 假設每次正確預測可獲得的利潤為0.9單位\n",
        "\n",
        "    return profit\n",
        "\n",
        "# 使用此策略計算利潤\n",
        "profit_single_side = calculate_single_side_profit(y_test, y_pred_random)\n",
        "\n",
        "print(f\"Profit from single-side prediction: {profit_single_side:.1f}\")"
      ],
      "metadata": {
        "colab": {
          "base_uri": "https://localhost:8080/"
        },
        "id": "KXUOPyCt_u8l",
        "outputId": "7559d409-19f8-41d8-97ba-a75e3826611f"
      },
      "execution_count": null,
      "outputs": [
        {
          "output_type": "stream",
          "name": "stdout",
          "text": [
            "Profit from single-side prediction: -1877.3\n"
          ]
        }
      ]
    },
    {
      "cell_type": "code",
      "source": [
        "import random\n",
        "from sklearn.metrics import confusion_matrix, accuracy_score\n",
        "#單壓跌\n",
        "y_pred_random = [2 for _ in y_test]\n",
        "\n",
        "conf_matrix = confusion_matrix(y_test, y_pred_random)\n",
        "\n",
        "print(\"Confusion Matrix:\")\n",
        "print(conf_matrix)\n",
        "\n",
        "\n",
        "accuracy = accuracy_score(y_test, y_pred_random)\n",
        "print(\"\\nOverall Accuracy:\", accuracy)\n",
        "\n",
        "\n",
        "correct_predictions_percentage = {}\n",
        "for i in range(3):\n",
        "    correct_predictions_percentage[i] = (conf_matrix[i, i] / sum(conf_matrix[i])) * 100\n",
        "\n",
        "print(\"\\nCorrect Predictions Percentage:\")\n",
        "for key, value in correct_predictions_percentage.items():\n",
        "    print(f\"Class {key}: {value:.2f}%\")"
      ],
      "metadata": {
        "colab": {
          "base_uri": "https://localhost:8080/"
        },
        "id": "OLDNGFMD4y3D",
        "outputId": "dfd1f5c4-4cc9-41cb-be9c-dc9be6bf2f74"
      },
      "execution_count": null,
      "outputs": [
        {
          "output_type": "stream",
          "name": "stdout",
          "text": [
            "Confusion Matrix:\n",
            "[[    0     0 18063]\n",
            " [    0     0   737]\n",
            " [    0     0 18803]]\n",
            "\n",
            "Overall Accuracy: 0.5000398904342739\n",
            "\n",
            "Correct Predictions Percentage:\n",
            "Class 0: 0.00%\n",
            "Class 1: 0.00%\n",
            "Class 2: 100.00%\n"
          ]
        }
      ]
    },
    {
      "cell_type": "code",
      "source": [
        "def calculate_single_side_profit(true_values, predictions):\n",
        "    profit = 0\n",
        "\n",
        "    for true, pred in zip(true_values, predictions):\n",
        "        if true == 2 and pred == 0:  # 預測為跌，但實際為漲\n",
        "            profit -= 1\n",
        "        elif true == 1 and pred == 0:  # 預測為跌，但實際持平，失去投資\n",
        "            profit -= 1\n",
        "        elif true == 0 and pred == 0:  # 預測為跌，實際也跌\n",
        "            profit += 0.9  # 假設每次正確預測可獲得的利潤為0.9單位\n",
        "\n",
        "    return profit\n",
        "\n",
        "# 使用此策略計算利潤\n",
        "profit_single_side = calculate_single_side_profit(y_test, y_pred_random)\n",
        "\n",
        "print(f\"Profit from single-side prediction: {profit_single_side:.1f}\")\n",
        "\n"
      ],
      "metadata": {
        "colab": {
          "base_uri": "https://localhost:8080/"
        },
        "id": "0YSWaYQGatnu",
        "outputId": "443411c2-c9bd-4749-fcf6-b37ad2549683"
      },
      "execution_count": null,
      "outputs": [
        {
          "output_type": "stream",
          "name": "stdout",
          "text": [
            "Profit from single-side prediction: 0.0\n"
          ]
        }
      ]
    },
    {
      "cell_type": "code",
      "source": [
        "import matplotlib.pyplot as plt\n",
        "\n",
        "\n",
        "def simulate_profit(true_values):\n",
        "    profit_per_trade = []\n",
        "\n",
        "    for true in true_values:\n",
        "        if true == 0:\n",
        "            profit_per_trade.append(-1)\n",
        "        elif true == 1:\n",
        "            profit_per_trade.append(-1)\n",
        "        elif true == 2:\n",
        "            profit_per_trade.append(0.9)\n",
        "\n",
        "    return profit_per_trade\n",
        "\n",
        "\n",
        "profits = simulate_profit(y_test)\n",
        "\n",
        "\n",
        "cumulative_profits = [sum(profits[:i+1]) for i in range(len(profits))]\n",
        "\n",
        "\n",
        "plt.figure(figsize=(10, 6))\n",
        "plt.plot(cumulative_profits, label=\"Profit\", color=\"blue\")\n",
        "plt.xlabel(\"Number of Trades\")\n",
        "plt.ylabel(\"Profit\")\n",
        "plt.title(\"Profit Over Trades\")\n",
        "plt.xticks([0, len(cumulative_profits)//4, len(cumulative_profits)//2, 3*len(cumulative_profits)//4, len(cumulative_profits)-1])\n",
        "plt.grid(True)\n",
        "plt.legend()\n",
        "plt.tight_layout()\n",
        "final_profit = cumulative_profits[-1]\n",
        "plt.annotate(f\"{final_profit:.2f}\", (len(cumulative_profits)-1, final_profit), textcoords=\"offset points\", xytext=(0,10), ha='center')\n",
        "plt.show()\n",
        "\n"
      ],
      "metadata": {
        "colab": {
          "base_uri": "https://localhost:8080/",
          "height": 607
        },
        "id": "P-knMqHOcbfl",
        "outputId": "e7b5ddd7-391e-4254-a4a5-3219034d37a2"
      },
      "execution_count": null,
      "outputs": [
        {
          "output_type": "display_data",
          "data": {
            "text/plain": [
              "<Figure size 1000x600 with 1 Axes>"
            ],
            "image/png": "[encoded data removed]"
          },
          "metadata": {}
        }
      ]
    },
    {
      "cell_type": "code",
      "source": [
        "def martingale_strategy(true_values, predictions):\n",
        "    balance = 0\n",
        "    bet = 1\n",
        "\n",
        "    for i, true in enumerate(true_values):\n",
        "\n",
        "        if true == 2 and predictions[i] == 2:\n",
        "            balance += 0.9 * bet\n",
        "            bet = 1\n",
        "\n",
        "        else:\n",
        "            balance -= bet\n",
        "            bet *= 2\n",
        "\n",
        "    return balance\n",
        "\n",
        "predictions = [2 for _ in y_test]\n",
        "\n",
        "\n",
        "final_balance = martingale_strategy(y_test, predictions)\n",
        "print(f\"Final Balance: {final_balance:.1f}\")\n"
      ],
      "metadata": {
        "id": "Cv4JeFK1_2hA",
        "outputId": "d732af9c-343f-46a1-fe5a-fadfda2b30f8",
        "colab": {
          "base_uri": "https://localhost:8080/"
        }
      },
      "execution_count": null,
      "outputs": [
        {
          "output_type": "stream",
          "name": "stdout",
          "text": [
            "Final Balance: -309528206.0\n"
          ]
        }
      ]
    },
    {
      "cell_type": "code",
      "source": [
        "def martingale_strategy(true_values, predictions):\n",
        "    balance = 0\n",
        "    bet = 1\n",
        "\n",
        "    for i, true in enumerate(true_values):\n",
        "\n",
        "        if true == 0 and predictions[i] == 0:  # 現在檢查是否實際和預測都是跌\n",
        "            balance += 0.9 * bet\n",
        "            bet = 1\n",
        "\n",
        "        else:\n",
        "            balance -= bet\n",
        "            bet *= 2\n",
        "\n",
        "    return balance\n",
        "\n",
        "# 將所有預測值設為跌\n",
        "predictions = [0 for _ in y_test]\n",
        "\n",
        "final_balance = martingale_strategy(y_test, predictions)\n",
        "print(f\"Final Balance: {final_balance:.1f}\")"
      ],
      "metadata": {
        "colab": {
          "base_uri": "https://localhost:8080/"
        },
        "id": "Gz8hvCg_fExK",
        "outputId": "032b207f-82d4-4e38-d5da-1dd4ff597560"
      },
      "execution_count": null,
      "outputs": [
        {
          "output_type": "stream",
          "name": "stdout",
          "text": [
            "Final Balance: -3480333183.4\n"
          ]
        }
      ]
    },
    {
      "cell_type": "code",
      "source": [
        "import matplotlib.pyplot as plt\n",
        "import numpy as np\n",
        "\n",
        "def martingale_strategy(true_values):\n",
        "    balances = []\n",
        "    balance = 0\n",
        "    bet = 1\n",
        "\n",
        "    for i, true in enumerate(true_values):\n",
        "\n",
        "        if true == 0:\n",
        "            balance += 0.9 * bet\n",
        "            bet = 1\n",
        "\n",
        "        else:\n",
        "            balance -= bet\n",
        "            bet *= 2\n",
        "        balances.append(balance)\n",
        "\n",
        "    return balances\n",
        "\n",
        "predictions = [2 for _ in y_test]\n",
        "balances = martingale_strategy(y_test)\n",
        "\n",
        "plt.figure(figsize=(10, 6))\n",
        "plt.plot(balances, label=\"Profit Over Time\", color=\"red\")\n",
        "plt.xlabel(\"Number of Trades\")\n",
        "plt.ylabel(\"Profit\")\n",
        "plt.title(\"Martingale Strategy\")\n",
        "plt.grid(True)\n",
        "plt.legend()\n",
        "plt.tight_layout()\n",
        "\n",
        "min_balance = min(balances)\n",
        "max_balance = max(balances)\n",
        "yticks_interval = (max_balance - min_balance) / 10\n",
        "plt.yticks(np.arange(min_balance, max_balance + yticks_interval, yticks_interval))\n",
        "\n",
        "final_balance = balances[-1]\n",
        "plt.annotate(f\"{final_balance:.2f}\", (len(balances)-1, final_balance), textcoords=\"offset points\", xytext=(0,10), ha='center')\n",
        "\n",
        "plt.show()\n"
      ],
      "metadata": {
        "colab": {
          "base_uri": "https://localhost:8080/",
          "height": 607
        },
        "id": "VXHcSDDNgaQm",
        "outputId": "f06701e5-863b-4c2b-92bd-b62a7c5b4155"
      },
      "execution_count": null,
      "outputs": [
        {
          "output_type": "display_data",
          "data": {
            "text/plain": [
              "<Figure size 1000x600 with 1 Axes>"
            ],
            "image/png": "[encoded data removed]"
          },
          "metadata": {}
        }
      ]
    },
    {
      "cell_type": "code",
      "source": [
        "def consecutive_non_decreases(true_values):\n",
        "    count = 0\n",
        "    max_count = 0\n",
        "    for true in true_values:\n",
        "        if true != 2:\n",
        "            count += 1\n",
        "            max_count = max(max_count, count)\n",
        "        else:\n",
        "            count = 0\n",
        "    return max_count\n",
        "\n",
        "max_consecutive_non_decreases = consecutive_non_decreases(y_test)\n",
        "print(max_consecutive_non_decreases)\n"
      ],
      "metadata": {
        "colab": {
          "base_uri": "https://localhost:8080/"
        },
        "id": "6jGzRB9Qll3F",
        "outputId": "7f1c9c03-9b25-4ee7-8604-98a122a243c3"
      },
      "execution_count": null,
      "outputs": [
        {
          "output_type": "stream",
          "name": "stdout",
          "text": [
            "33\n"
          ]
        }
      ]
    }
  ]
}