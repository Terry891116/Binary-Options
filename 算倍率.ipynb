{
  "nbformat": 4,
  "nbformat_minor": 0,
  "metadata": {
    "colab": {
      "provenance": []
    },
    "kernelspec": {
      "name": "python3",
      "display_name": "Python 3"
    },
    "language_info": {
      "name": "python"
    }
  },
  "cells": [
    {
      "cell_type": "code",
      "execution_count": 3,
      "metadata": {
        "colab": {
          "base_uri": "https://localhost:8080/"
        },
        "id": "40Rq8Slkepgy",
        "outputId": "6f49b1f9-5c76-4462-8f5f-65a2ab7e067f"
      },
      "outputs": [
        {
          "output_type": "execute_result",
          "data": {
            "text/plain": [
              "[1.96457196184768]"
            ]
          },
          "metadata": {},
          "execution_count": 3
        }
      ],
      "source": [
        "from sympy import symbols, solve, Eq\n",
        "\n",
        "\n",
        "\n",
        "def calculate_a_for_n_losses(n):\n",
        "\n",
        "    a = symbols('a')\n",
        "    # 定義等式\n",
        "    equation = Eq(a**n * 0.9 - (1 - a**n) / (1 - a), 0)\n",
        "    # 解等式\n",
        "    solution = solve(equation, a)\n",
        "    # 篩選出實數解，並且只保留那些大於1的解\n",
        "    real_solutions = [sol.evalf() for sol in solution if sol.is_real and sol > 1]\n",
        "    return real_solutions\n",
        "\n",
        "#計算a值\n",
        "a_for_3_losses = calculate_a_for_n_losses(3)\n",
        "#a_for_4_losses = calculate_a_for_n_losses(4)\n",
        "#a_for_5_losses = calculate_a_for_n_losses(5)\n",
        "#a_for_6_losses = calculate_a_for_n_losses(6)\n",
        "#a_for_7_losses = calculate_a_for_n_losses(7)\n",
        "#a_for_8_losses = calculate_a_for_n_losses(8)\n",
        "#a_for_9_losses = calculate_a_for_n_losses(9)\n",
        "#a_for_10_losses = calculate_a_for_n_losses(10)\n",
        "#a_for_11_losses = calculate_a_for_n_losses(11)\n",
        "\n",
        "a_for_3_losses\n",
        "#a_for_4_losses, a_for_5_losses, a_for_6_losses, a_for_7_losses, a_for_8_losses, a_for_9_losses, a_for_10_losses, a_for_11_losses"
      ]
    }
  ]
}